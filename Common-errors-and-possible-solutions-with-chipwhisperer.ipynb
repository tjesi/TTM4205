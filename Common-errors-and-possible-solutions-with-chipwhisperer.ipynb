{
 "cells": [
  {
   "cell_type": "markdown",
   "id": "7be89012",
   "metadata": {},
   "source": [
    "# Common errors and possible solutions"
   ]
  },
  {
   "cell_type": "markdown",
   "id": "3723a69d",
   "metadata": {},
   "source": [
    "## Building STM32F3 firmware"
   ]
  },
  {
   "cell_type": "markdown",
   "id": "a9cb813a",
   "metadata": {},
   "source": [
    "When building STM32F3 firmware, depending on which version of chipwhisperer you are using, you may get the error message;\n",
    "```\n",
    "\n",
    "Compiling:\n",
    "-en …/./hal/stm32f3/stm32f3_sysmem.c …\n",
    "…/./hal/stm32f3/stm32f3_sysmem.c:63:1: error: unknown type name ‘caddr_t’\n",
    "63 | caddr_t _sbrk(int incr)\n",
    "| ^~~~~~~\n",
    "…/./hal/stm32f3/stm32f3_sysmem.c: In function ‘_sbrk’:\n",
    "…/./hal/stm32f3/stm32f3_sysmem.c:76:25: error: ‘caddr_t’ undeclared (first use in this function)\n",
    "76 | return (caddr_t) -1;\n",
    "| ^~~~~~~\n",
    "…/./hal/stm32f3/stm32f3_sysmem.c:76:25: note: each undeclared identifier is reported only once for each function it appears in\n",
    "…/./hal/stm32f3/stm32f3_sysmem.c:81:25: error: expected ‘;’ before ‘prev_heap_end’\n",
    "81 | return (caddr_t) prev_heap_end;\n",
    "...\n",
    "\n",
    "CalledProcessError: Command ‘b’cd \n",
    "/Users/Thomas/Downloads/chipwhisperer-5.7.0/hardware/victims/firmware/simpleserial-glitch\\ngmake \n",
    "PLATFORM=$1 CRYPTO_TARGET=NONE SS_VER=$2 -j\\n’’ returned non-zero exit status 2`\n",
    "```\n",
    "This may be because of the fact that some ```arm-none-eab-gcc``` compilers doesn not suppert ```caddr_t``` which is a function in STM32F3_sysmem.c. To fix this just update Chipwhisperer via git \n",
    "```\n",
    "cd ..\n",
    "git submodule init jupyter/\n",
    "git submodule update\n",
    "```\n",
    "or just change the function locally with this https://github.com/newaetech/chipwhisperer/blob/develop/hardware/victims/firmware/hal/stm32f3/stm32f3_sysmem.c "
   ]
  },
  {
   "cell_type": "markdown",
   "id": "16f4b469",
   "metadata": {},
   "source": [
    "## No trigger seen and Device did not ack"
   ]
  },
  {
   "cell_type": "markdown",
   "id": "444659be",
   "metadata": {},
   "source": [
    " When trying to capture traces you may experience errors/warnings such as ```No trigger seen``` and ```Device did not ack```. This is due to the fact that the capture device can not find the target. ```No trigger seen``` is often an error that occurs when we are changing the clock (i.e ```scope.clock.adc_src = \"clkgen_x1\"``` -->```scope.clock.adc_src = \"clkgen_x4```)  The usual solution to this problem is to reset the target with the function ```reset_target(scope)```. You can also try to reprogram firmware or changing simpleserial version."
   ]
  },
  {
   "cell_type": "markdown",
   "id": "a3ca54c8",
   "metadata": {},
   "source": [
    "### Chipwisperer analyzer"
   ]
  },
  {
   "cell_type": "markdown",
   "id": "7a83d7b8",
   "metadata": {},
   "source": [
    "The problem can also occur when working with chipwhisperer analyzer for example in Lab 4_3 - ChipWhisperer Analyzer CPA Attack then a quick fix is changing the project from ```cw.open_project()``` to ```cw.create_project()```."
   ]
  },
  {
   "cell_type": "markdown",
   "id": "503aa108",
   "metadata": {},
   "source": [
    "## LIBUSB_ERROR_ACCESS [-3]"
   ]
  },
  {
   "cell_type": "markdown",
   "id": "c2189382",
   "metadata": {},
   "source": [
    "This is a really common error with a quick fix. It occurs because Chipwhisperer can not run on two kernels at the same time and to fix it just run \n",
    "```\n",
    "scope.dis()\n",
    "target.dis()\n",
    "```\n",
    "or restart the kernel that you are not using."
   ]
  },
  {
   "cell_type": "markdown",
   "id": "20b71b92",
   "metadata": {},
   "source": [
    "## SerializationError: can’t serialize <class ‘range’>"
   ]
  },
  {
   "cell_type": "markdown",
   "id": "5f667c81",
   "metadata": {},
   "source": [
    "This error often occured when using Bokehjs and Holoviews. There is an easy fix to this and we just need to make a list of the range object in use\n",
    "i.e \n",
    "\n",
    "```xrange = range(len(trace_array[0]))[plot_start:plot_end]```\n",
    "--> \n",
    "\n",
    "```xrange = list(range(len(trace_array[0]))[plot_start:plot_end])```\n"
   ]
  },
  {
   "cell_type": "markdown",
   "id": "2b62928c",
   "metadata": {},
   "source": [
    "## scope.io.vglitch_reset()"
   ]
  },
  {
   "cell_type": "markdown",
   "id": "bd2ba800",
   "metadata": {},
   "source": [
    "The function ```scope.io.vglitch_reset``` is used in capturing voltage glitches in the labs revolving around fault injections, but it does not exist in the newest software release. This is a fairly new function and it is added in the development branch on github. To bypass the problem either comment out the function from your cell in jupyter, update via git or add it in ChipwhispererExtra.py as they have done here https://github.com/newaetech/chipwhisperer/commit/f922eb99c8ad84f1586768cc7bbb39e5c55c0162"
   ]
  },
  {
   "cell_type": "markdown",
   "id": "d201d977",
   "metadata": {},
   "source": [
    "## gc.results.calc()"
   ]
  },
  {
   "cell_type": "markdown",
   "id": "09f64180",
   "metadata": {},
   "source": [
    "We encounter a similar issue as above with the argument sort in gc.results.calc() as it does not exist in the latest release. The fix is to either add it to glitch.py, update via git or just ignore if the function can  sort your parameters or not. If you want to add it, follow the same link as above. They were added at the same time."
   ]
  },
  {
   "cell_type": "markdown",
   "id": "99647e9b",
   "metadata": {},
   "source": [
    "## ModuleError: no module named Crypto\n",
    "\n",
    "Due to some issues pycrypto is no longer used and you should use pycryptodome instead.\n",
    "\n",
    "to solve this run;\n",
    "```\n",
    "pip uninstall crypto \n",
    "pip uninstall pycrypto \n",
    "pip install pycryptodome\n",
    "```\n",
    "\n",
    "\n",
    "https://stackoverflow.com/questions/19623267/importerror-no-module-named-crypto-cipher"
   ]
  }
 ],
 "metadata": {
  "kernelspec": {
   "display_name": "Python 3 (ipykernel)",
   "language": "python",
   "name": "python3"
  },
  "language_info": {
   "codemirror_mode": {
    "name": "ipython",
    "version": 3
   },
   "file_extension": ".py",
   "mimetype": "text/x-python",
   "name": "python",
   "nbconvert_exporter": "python",
   "pygments_lexer": "ipython3",
   "version": "3.9.5"
  }
 },
 "nbformat": 4,
 "nbformat_minor": 5
}
